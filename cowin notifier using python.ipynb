{
 "cells": [
  {
   "cell_type": "code",
   "execution_count": null,
   "id": "9fcb6615",
   "metadata": {},
   "outputs": [],
   "source": [
    "import requests\n",
    "from datetime import datetime,timedelta\n",
    "import json"
   ]
  },
  {
   "cell_type": "code",
   "execution_count": null,
   "id": "6a249b60",
   "metadata": {},
   "outputs": [],
   "source": [
    "today = datetime.today()"
   ]
  },
  {
   "cell_type": "code",
   "execution_count": null,
   "id": "e118f6ca",
   "metadata": {},
   "outputs": [],
   "source": [
    "today"
   ]
  },
  {
   "cell_type": "code",
   "execution_count": null,
   "id": "82879000",
   "metadata": {},
   "outputs": [],
   "source": [
    "print(today)"
   ]
  },
  {
   "cell_type": "code",
   "execution_count": null,
   "id": "7ec4141d",
   "metadata": {},
   "outputs": [],
   "source": [
    "num_days = 7\n",
    "\n",
    "pin = [\"110001\",\"110002\",\"110003\"]"
   ]
  },
  {
   "cell_type": "code",
   "execution_count": null,
   "id": "0b51d947",
   "metadata": {},
   "outputs": [],
   "source": [
    "all_dates = []"
   ]
  },
  {
   "cell_type": "code",
   "execution_count": null,
   "id": "71b6a009",
   "metadata": {},
   "outputs": [],
   "source": [
    "for i in range(num_days):\n",
    "    all_dates.append(today+timedelta(i))"
   ]
  },
  {
   "cell_type": "code",
   "execution_count": null,
   "id": "33b5f0d8",
   "metadata": {},
   "outputs": [],
   "source": [
    "all_dates"
   ]
  },
  {
   "cell_type": "code",
   "execution_count": null,
   "id": "a184f39d",
   "metadata": {},
   "outputs": [],
   "source": [
    "final_dates = []"
   ]
  },
  {
   "cell_type": "code",
   "execution_count": null,
   "id": "c74d7079",
   "metadata": {},
   "outputs": [],
   "source": [
    "for i in all_dates:\n",
    "    final_dates.append(i.strftime(\"%d%m%y\"))"
   ]
  },
  {
   "cell_type": "code",
   "execution_count": null,
   "id": "9aee77f6",
   "metadata": {},
   "outputs": [],
   "source": [
    "final_dates"
   ]
  },
  {
   "cell_type": "code",
   "execution_count": null,
   "id": "3347e824",
   "metadata": {},
   "outputs": [],
   "source": [
    "while True:\n",
    "    \n",
    "    for p in pin:\n",
    "        for d in final_dates:\n",
    "            URL = \"https://cdn-api.co-vin.in/api/v2/appointment/sessions/public/calendarByPin?pincode={}&date={}\".format(p,d)\n",
    "            \n",
    "            result=requests.get(URL)\n",
    "            #print(result.text)\n",
    "            \n",
    "            json_result=result.json()\n",
    "            \n",
    "            if json_result[\"centers\"]:\n",
    "                for center in json_result[\"centers\"]:\n",
    "                    for session in center[\"sessions\"]:\n",
    "                        print(\"pincode: \"+p)\n",
    "                        print(\"date: \"+d)\n",
    "                        print(\"Center Name: \", center[\"name\"])\n",
    "                        print(\"Center Address: \",center[\"address\"])\n",
    "                        print(\"\\n\")"
   ]
  },
  {
   "cell_type": "code",
   "execution_count": null,
   "id": "e79a7a35",
   "metadata": {},
   "outputs": [],
   "source": []
  }
 ],
 "metadata": {
  "kernelspec": {
   "display_name": "Python 3",
   "language": "python",
   "name": "python3"
  },
  "language_info": {
   "codemirror_mode": {
    "name": "ipython",
    "version": 3
   },
   "file_extension": ".py",
   "mimetype": "text/x-python",
   "name": "python",
   "nbconvert_exporter": "python",
   "pygments_lexer": "ipython3",
   "version": "3.8.8"
  }
 },
 "nbformat": 4,
 "nbformat_minor": 5
}
