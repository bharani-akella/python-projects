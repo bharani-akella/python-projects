{
 "cells": [
  {
   "cell_type": "code",
   "execution_count": 1,
   "id": "3d2a691d",
   "metadata": {},
   "outputs": [],
   "source": [
    "from tkinter import *"
   ]
  },
  {
   "cell_type": "code",
   "execution_count": 2,
   "id": "6b560e75",
   "metadata": {},
   "outputs": [],
   "source": [
    "from time import strftime"
   ]
  },
  {
   "cell_type": "code",
   "execution_count": 3,
   "id": "c3286ac3",
   "metadata": {},
   "outputs": [],
   "source": [
    "window = Tk()"
   ]
  },
  {
   "cell_type": "code",
   "execution_count": 4,
   "id": "dc548c6b",
   "metadata": {},
   "outputs": [],
   "source": [
    "window.title(\"My clock\")\n",
    "window.configure(background=\"green\")"
   ]
  },
  {
   "cell_type": "code",
   "execution_count": 5,
   "id": "d2fded10",
   "metadata": {},
   "outputs": [],
   "source": [
    "label = Label(window,foreground=\"blue\",background=\"green\")\n",
    "label.pack()"
   ]
  },
  {
   "cell_type": "code",
   "execution_count": 6,
   "id": "3584feba",
   "metadata": {},
   "outputs": [],
   "source": [
    "def clock():\n",
    "    \n",
    "    string = strftime(\"%H:%M:%S %p\")\n",
    "    label.configure(text=string,font=(\"Arial\",125))\n",
    "    label.after(1000,clock)"
   ]
  },
  {
   "cell_type": "code",
   "execution_count": 7,
   "id": "d438f4de",
   "metadata": {},
   "outputs": [],
   "source": [
    "clock()\n",
    "\n",
    "window.mainloop()"
   ]
  },
  {
   "cell_type": "code",
   "execution_count": null,
   "id": "cfe53013",
   "metadata": {},
   "outputs": [],
   "source": []
  }
 ],
 "metadata": {
  "kernelspec": {
   "display_name": "Python 3",
   "language": "python",
   "name": "python3"
  },
  "language_info": {
   "codemirror_mode": {
    "name": "ipython",
    "version": 3
   },
   "file_extension": ".py",
   "mimetype": "text/x-python",
   "name": "python",
   "nbconvert_exporter": "python",
   "pygments_lexer": "ipython3",
   "version": "3.8.8"
  }
 },
 "nbformat": 4,
 "nbformat_minor": 5
}
